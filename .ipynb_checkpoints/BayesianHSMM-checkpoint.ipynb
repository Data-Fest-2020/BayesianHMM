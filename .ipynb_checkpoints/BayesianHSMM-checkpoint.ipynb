{
 "cells": [
  {
   "cell_type": "markdown",
   "metadata": {
    "collapsed": true,
    "pycharm": {
     "name": "#%% md\n"
    }
   },
   "source": [
    "# Using AutoEncoders with Bayesian HMMs"
   ]
  },
  {
   "cell_type": "markdown",
   "metadata": {},
   "source": [
    "To Do:\n",
    "\n",
    "- Import desired libraries\n",
    "- Import Data from Datatools\n",
    "- Data Preprocessing if needed\n",
    "- Code to run VAE/AE with the HDP-HSMM model\n",
    "- Post-processing\n",
    "\n",
    "Points to consider:\n",
    "- Adding Window Time Series Analysis\n",
    "- Other Feature Engineering options"
   ]
  },
  {
   "cell_type": "code",
   "execution_count": 2,
   "metadata": {
    "pycharm": {
     "name": "#%%\n"
    }
   },
   "outputs": [],
   "source": [
    "# Import libraries required for data\n",
    "from pathlib import Path\n",
    "from datatools.fixture import setup_dummy_data\n",
    "from datatools import MeasurementDataReader, Measurement, MeasurementSeries, Action\n",
    "from datatools import Tool, Config, DataTypes\n",
    "from datatools import ACC, GYR, MAG, MIC, POS, VEL\n",
    "\n",
    "import pandas as pd\n",
    "import numpy as np\n",
    "# Import libraries required for AE\n",
    "\n",
    "# import libraries required for HMM"
   ]
  },
  {
   "cell_type": "markdown",
   "metadata": {},
   "source": [
    "### Step 1: Prepare Data\n",
    "\n",
    "Import Data"
   ]
  },
  {
   "cell_type": "code",
   "execution_count": 3,
   "metadata": {
    "pycharm": {
     "name": "#%%\n"
    }
   },
   "outputs": [
    {
     "name": "stderr",
     "output_type": "stream",
     "text": [
      "[INFO] Read data:   0%|          | 0/16 [00:00<?, ?it/s]"
     ]
    },
    {
     "name": "stdout",
     "output_type": "stream",
     "text": [
      "[INFO] Preparing data from:\n",
      "  tool-tracking\\tool-tracking-data\\electric_screwdriver\\pythagoras-10-20200716\n",
      "  tool-tracking\\tool-tracking-data\\electric_screwdriver\\pythagoras-10-20200716\n",
      "  tool-tracking\\tool-tracking-data\\electric_screwdriver\\pythagoras-10-20200716\n",
      "  tool-tracking\\tool-tracking-data\\electric_screwdriver\\pythagoras-10-20200716\n"
     ]
    },
    {
     "name": "stderr",
     "output_type": "stream",
     "text": [
      "\r",
      "[INFO] Read data:   6%|▋         | 1/16 [00:00<00:05,  2.87it/s, file=ACC-01-102.291.csv]"
     ]
    },
    {
     "name": "stdout",
     "output_type": "stream",
     "text": [
      "[WARN] The mean sampling rate from the filename (tool-tracking\\tool-tracking-data\\electric_screwdriver\\pythagoras-10-20200716\\ACC-01-102.291.csv) and from the timestamps differ by 0.001Hz\n",
      "\n"
     ]
    },
    {
     "name": "stderr",
     "output_type": "stream",
     "text": [
      "\r",
      "[INFO] Read data:  12%|█▎        | 2/16 [00:00<00:04,  3.21it/s, file=ACC-02-102.291.csv]"
     ]
    },
    {
     "name": "stdout",
     "output_type": "stream",
     "text": [
      "[WARN] The mean sampling rate from the filename (tool-tracking\\tool-tracking-data\\electric_screwdriver\\pythagoras-10-20200716\\ACC-02-102.291.csv) and from the timestamps differ by 0.001Hz\n",
      "\n"
     ]
    },
    {
     "name": "stderr",
     "output_type": "stream",
     "text": [
      "\r",
      "[INFO] Read data:  19%|█▉        | 3/16 [00:00<00:04,  3.20it/s, file=ACC-03-102.291.csv]"
     ]
    },
    {
     "name": "stdout",
     "output_type": "stream",
     "text": [
      "[WARN] The mean sampling rate from the filename (tool-tracking\\tool-tracking-data\\electric_screwdriver\\pythagoras-10-20200716\\ACC-03-102.291.csv) and from the timestamps differ by 0.001Hz\n",
      "\n"
     ]
    },
    {
     "name": "stderr",
     "output_type": "stream",
     "text": [
      "\r",
      "[INFO] Read data:  25%|██▌       | 4/16 [00:01<00:03,  3.55it/s, file=ACC-04-102.291.csv]"
     ]
    },
    {
     "name": "stdout",
     "output_type": "stream",
     "text": [
      "[WARN] The mean sampling rate from the filename (tool-tracking\\tool-tracking-data\\electric_screwdriver\\pythagoras-10-20200716\\ACC-04-102.291.csv) and from the timestamps differ by 0.001Hz\n",
      "\n"
     ]
    },
    {
     "name": "stderr",
     "output_type": "stream",
     "text": [
      "\r",
      "[INFO] Read data:  31%|███▏      | 5/16 [00:01<00:02,  3.78it/s, file=GYR-01-102.291.csv]"
     ]
    },
    {
     "name": "stdout",
     "output_type": "stream",
     "text": [
      "[WARN] The mean sampling rate from the filename (tool-tracking\\tool-tracking-data\\electric_screwdriver\\pythagoras-10-20200716\\GYR-01-102.291.csv) and from the timestamps differ by 0.001Hz\n",
      "\n"
     ]
    },
    {
     "name": "stderr",
     "output_type": "stream",
     "text": [
      "[INFO] Read data:  44%|████▍     | 7/16 [00:01<00:02,  4.46it/s, file=GYR-03-102.291.csv]"
     ]
    },
    {
     "name": "stdout",
     "output_type": "stream",
     "text": [
      "[WARN] The mean sampling rate from the filename (tool-tracking\\tool-tracking-data\\electric_screwdriver\\pythagoras-10-20200716\\GYR-02-102.291.csv) and from the timestamps differ by 0.001Hz\n",
      "\n",
      "[WARN] The mean sampling rate from the filename (tool-tracking\\tool-tracking-data\\electric_screwdriver\\pythagoras-10-20200716\\GYR-03-102.291.csv) and from the timestamps differ by 0.001Hz\n",
      "\n"
     ]
    },
    {
     "name": "stderr",
     "output_type": "stream",
     "text": [
      "\r",
      "[INFO] Read data:  50%|█████     | 8/16 [00:01<00:01,  4.78it/s, file=GYR-04-102.291.csv]"
     ]
    },
    {
     "name": "stdout",
     "output_type": "stream",
     "text": [
      "[WARN] The mean sampling rate from the filename (tool-tracking\\tool-tracking-data\\electric_screwdriver\\pythagoras-10-20200716\\GYR-04-102.291.csv) and from the timestamps differ by 0.001Hz\n",
      "\n"
     ]
    },
    {
     "name": "stderr",
     "output_type": "stream",
     "text": [
      "\r",
      "[INFO] Read data:  56%|█████▋    | 9/16 [00:02<00:01,  4.03it/s, file=MAG-01-155.087.csv]"
     ]
    },
    {
     "name": "stdout",
     "output_type": "stream",
     "text": [
      "[WARN] The mean sampling rate from the filename (tool-tracking\\tool-tracking-data\\electric_screwdriver\\pythagoras-10-20200716\\MAG-01-155.087.csv) and from the timestamps differ by 0.001Hz\n",
      "\n"
     ]
    },
    {
     "name": "stderr",
     "output_type": "stream",
     "text": [
      "\r",
      "[INFO] Read data:  62%|██████▎   | 10/16 [00:02<00:01,  3.86it/s, file=MAG-02-154.679.csv]"
     ]
    },
    {
     "name": "stdout",
     "output_type": "stream",
     "text": [
      "[WARN] The mean sampling rate from the filename (tool-tracking\\tool-tracking-data\\electric_screwdriver\\pythagoras-10-20200716\\MAG-02-154.679.csv) and from the timestamps differ by 0.001Hz\n",
      "\n"
     ]
    },
    {
     "name": "stderr",
     "output_type": "stream",
     "text": [
      "\r",
      "[INFO] Read data:  69%|██████▉   | 11/16 [00:02<00:01,  3.95it/s, file=MAG-03-154.871.csv]"
     ]
    },
    {
     "name": "stdout",
     "output_type": "stream",
     "text": [
      "[WARN] The mean sampling rate from the filename (tool-tracking\\tool-tracking-data\\electric_screwdriver\\pythagoras-10-20200716\\MAG-03-154.871.csv) and from the timestamps differ by 0.002Hz\n",
      "\n"
     ]
    },
    {
     "name": "stderr",
     "output_type": "stream",
     "text": [
      "\r",
      "[INFO] Read data:  75%|███████▌  | 12/16 [00:03<00:01,  3.85it/s, file=MAG-04-154.967.csv]"
     ]
    },
    {
     "name": "stdout",
     "output_type": "stream",
     "text": [
      "[WARN] The mean sampling rate from the filename (tool-tracking\\tool-tracking-data\\electric_screwdriver\\pythagoras-10-20200716\\MAG-04-154.967.csv) and from the timestamps differ by 0.001Hz\n",
      "\n"
     ]
    },
    {
     "name": "stderr",
     "output_type": "stream",
     "text": [
      "[INFO] Read annotation: 100%|██████████| 16/16 [00:19<00:00,  1.24s/it, file=data-04.annotation]\n"
     ]
    },
    {
     "name": "stdout",
     "output_type": "stream",
     "text": [
      "[INFO] Finished with 4 measurement(s).\n"
     ]
    },
    {
     "data": {
      "text/plain": [
       "datatools.data.DataBunch"
      ]
     },
     "execution_count": 3,
     "metadata": {},
     "output_type": "execute_result"
    }
   ],
   "source": [
    "source = \"tool-tracking/tool-tracking-data/\"\n",
    "\n",
    "mdr = MeasurementDataReader(source=source)\n",
    "# create a query to load Measurements or Actions\n",
    "q = mdr.query(query_type=Measurement)\n",
    "\n",
    "mytool = \"electric_screwdriver\"\n",
    "data_dict = q.filter_by(Tool == mytool, DataTypes == [ACC, GYR, MAG, MIC]).get()\n",
    "data_dict.keys()  # we have loaded five measurements\n",
    "\n",
    "data_bunch1 = data_dict[\"01\"] # data bunch for measurement with measurement id \"01\"\n",
    "type(data_bunch1)"
   ]
  },
  {
   "cell_type": "code",
   "execution_count": null,
   "metadata": {
    "pycharm": {
     "name": "#%%\n"
    }
   },
   "outputs": [],
   "source": [
    "data_bunch1.data_keys()\n",
    "data_bunch1.gyr.features"
   ]
  },
  {
   "cell_type": "markdown",
   "metadata": {},
   "source": [
    "Do Basic Exploratory and Descriptive Analysis of the Data\n",
    "\n",
    "Need to:\n",
    "1) Resample/Decimate the signal.\n",
    "2)"
   ]
  },
  {
   "cell_type": "code",
   "execution_count": 4,
   "metadata": {
    "pycharm": {
     "name": "#%%\n"
    }
   },
   "outputs": [
    {
     "data": {
      "text/plain": [
       "(41775, 41775, 63336, 3267040)"
      ]
     },
     "execution_count": 4,
     "metadata": {},
     "output_type": "execute_result"
    }
   ],
   "source": [
    "# assign each sensor\n",
    "\n",
    "acc_01_old = pd.DataFrame(data_bunch1.acc)\n",
    "gyr_01_old = pd.DataFrame(data_bunch1.gyr)\n",
    "mag_01_old = pd.DataFrame(data_bunch1.mag)\n",
    "mic_01_old = pd.DataFrame(data_bunch1.mic)\n",
    "\n",
    "# length for each sensor for just the first campaign.\n",
    "len(acc_01_old), len(gyr_01_old), len(mag_01_old), len(mic_01_old)"
   ]
  },
  {
   "cell_type": "code",
   "execution_count": null,
   "metadata": {
    "pycharm": {
     "is_executing": true,
     "name": "#%%\n"
    }
   },
   "outputs": [],
   "source": []
  },
  {
   "cell_type": "markdown",
   "metadata": {},
   "source": [
    "Do pre-processing"
   ]
  },
  {
   "cell_type": "code",
   "execution_count": null,
   "metadata": {
    "pycharm": {
     "is_executing": true,
     "name": "#%%\n"
    }
   },
   "outputs": [],
   "source": [
    "test_set = mic_01_old\n",
    "test_set_processed = pd.DataFrame(columns=[\"time\", \"amplitude\", \"label\"])\n",
    "\n",
    "for i in range(len(acc_01_old)):\n",
    "\n",
    "    timestep = acc_01_old[\"time [s]\"][i]\n",
    "    merging_df = test_set.loc[test_set['time [s]'] <= timestep]\n",
    "    list1 = []\n",
    "    if len(merging_df) is not 0:\n",
    "        test_set = pd.merge(test_set, merging_df, how='outer', indicator=True)\n",
    "        test_set = test_set.loc[test_set._merge == 'left_only',\n",
    "                                test_set.columns].reset_index()\n",
    "        print(len(test_set))\n",
    "        # print(merging_df)\n",
    "        label1 = merging_df[\"label\"].mode()\n",
    "        amplitude = merging_df[\"amplitude\"].mean()\n",
    "        time1 = merging_df[\"time [s]\"].mean()\n",
    "        list1.append(time1)\n",
    "        list1.append(amplitude)\n",
    "        list1.append(label1)\n",
    "        test_set_processed = test_set_processed.append(list1)"
   ]
  },
  {
   "cell_type": "code",
   "execution_count": null,
   "metadata": {
    "pycharm": {
     "is_executing": true,
     "name": "#%%\n"
    }
   },
   "outputs": [],
   "source": [
    "test_set_processed.head()"
   ]
  },
  {
   "cell_type": "markdown",
   "metadata": {},
   "source": [
    "Save data files for future use"
   ]
  },
  {
   "cell_type": "code",
   "execution_count": 164,
   "metadata": {
    "pycharm": {
     "name": "#%%\n"
    }
   },
   "outputs": [
    {
     "data": {
      "text/html": [
       "<div>\n",
       "<style scoped>\n",
       "    .dataframe tbody tr th:only-of-type {\n",
       "        vertical-align: middle;\n",
       "    }\n",
       "\n",
       "    .dataframe tbody tr th {\n",
       "        vertical-align: top;\n",
       "    }\n",
       "\n",
       "    .dataframe thead th {\n",
       "        text-align: right;\n",
       "    }\n",
       "</style>\n",
       "<table border=\"1\" class=\"dataframe\">\n",
       "  <thead>\n",
       "    <tr style=\"text-align: right;\">\n",
       "      <th></th>\n",
       "      <th>time [s]</th>\n",
       "      <th>amplitude</th>\n",
       "      <th>label</th>\n",
       "    </tr>\n",
       "  </thead>\n",
       "  <tbody>\n",
       "    <tr>\n",
       "      <th>0</th>\n",
       "      <td>1.594226e+09</td>\n",
       "      <td>7</td>\n",
       "      <td>8.0</td>\n",
       "    </tr>\n",
       "    <tr>\n",
       "      <th>1</th>\n",
       "      <td>1.594226e+09</td>\n",
       "      <td>-1</td>\n",
       "      <td>8.0</td>\n",
       "    </tr>\n",
       "    <tr>\n",
       "      <th>2</th>\n",
       "      <td>1.594226e+09</td>\n",
       "      <td>-9</td>\n",
       "      <td>8.0</td>\n",
       "    </tr>\n",
       "    <tr>\n",
       "      <th>3</th>\n",
       "      <td>1.594226e+09</td>\n",
       "      <td>-6</td>\n",
       "      <td>8.0</td>\n",
       "    </tr>\n",
       "    <tr>\n",
       "      <th>4</th>\n",
       "      <td>1.594226e+09</td>\n",
       "      <td>-9</td>\n",
       "      <td>8.0</td>\n",
       "    </tr>\n",
       "    <tr>\n",
       "      <th>...</th>\n",
       "      <td>...</td>\n",
       "      <td>...</td>\n",
       "      <td>...</td>\n",
       "    </tr>\n",
       "    <tr>\n",
       "      <th>95</th>\n",
       "      <td>1.594226e+09</td>\n",
       "      <td>25</td>\n",
       "      <td>8.0</td>\n",
       "    </tr>\n",
       "    <tr>\n",
       "      <th>96</th>\n",
       "      <td>1.594226e+09</td>\n",
       "      <td>15</td>\n",
       "      <td>8.0</td>\n",
       "    </tr>\n",
       "    <tr>\n",
       "      <th>97</th>\n",
       "      <td>1.594226e+09</td>\n",
       "      <td>14</td>\n",
       "      <td>8.0</td>\n",
       "    </tr>\n",
       "    <tr>\n",
       "      <th>98</th>\n",
       "      <td>1.594226e+09</td>\n",
       "      <td>14</td>\n",
       "      <td>8.0</td>\n",
       "    </tr>\n",
       "    <tr>\n",
       "      <th>99</th>\n",
       "      <td>1.594226e+09</td>\n",
       "      <td>16</td>\n",
       "      <td>8.0</td>\n",
       "    </tr>\n",
       "  </tbody>\n",
       "</table>\n",
       "<p>100 rows × 3 columns</p>\n",
       "</div>"
      ],
      "text/plain": [
       "        time [s]  amplitude  label\n",
       "0   1.594226e+09          7    8.0\n",
       "1   1.594226e+09         -1    8.0\n",
       "2   1.594226e+09         -9    8.0\n",
       "3   1.594226e+09         -6    8.0\n",
       "4   1.594226e+09         -9    8.0\n",
       "..           ...        ...    ...\n",
       "95  1.594226e+09         25    8.0\n",
       "96  1.594226e+09         15    8.0\n",
       "97  1.594226e+09         14    8.0\n",
       "98  1.594226e+09         14    8.0\n",
       "99  1.594226e+09         16    8.0\n",
       "\n",
       "[100 rows x 3 columns]"
      ]
     },
     "execution_count": 164,
     "metadata": {},
     "output_type": "execute_result"
    }
   ],
   "source": [
    "test_set"
   ]
  },
  {
   "cell_type": "markdown",
   "metadata": {},
   "source": [
    "### Step 2: Setup Model Training"
   ]
  }
 ],
 "metadata": {
  "kernelspec": {
   "display_name": "Python 3",
   "language": "python",
   "name": "python3"
  },
  "language_info": {
   "codemirror_mode": {
    "name": "ipython",
    "version": 3
   },
   "file_extension": ".py",
   "mimetype": "text/x-python",
   "name": "python",
   "nbconvert_exporter": "python",
   "pygments_lexer": "ipython3",
   "version": "3.7.9"
  }
 },
 "nbformat": 4,
 "nbformat_minor": 1
}
